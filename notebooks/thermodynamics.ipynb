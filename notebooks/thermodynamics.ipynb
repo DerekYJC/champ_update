{
 "cells": [
  {
   "cell_type": "markdown",
   "metadata": {},
   "source": [
    "Kd Analysis\n",
    "==="
   ]
  },
  {
   "cell_type": "code",
   "execution_count": 1,
   "metadata": {
    "collapsed": false
   },
   "outputs": [],
   "source": [
    "%matplotlib inline\n",
    "%load_ext autoreload\n",
    "%autoreload 2"
   ]
  },
  {
   "cell_type": "code",
   "execution_count": 2,
   "metadata": {
    "collapsed": false
   },
   "outputs": [],
   "source": [
    "import os\n",
    "import sys\n",
    "import glob\n",
    "import numpy as np\n",
    "import matplotlib.pyplot as plt\n",
    "import tifffile\n",
    "import random\n",
    "import itertools\n",
    "from collections import defaultdict, Counter, namedtuple\n",
    "from IPython.display import HTML, Image\n",
    "from champ import misc, intensity, intensity_array\n",
    "from Bio import SeqIO\n",
    "import time\n",
    "from JSAnimation import IPython_display\n",
    "from matplotlib import animation\n",
    "import yaml"
   ]
  },
  {
   "cell_type": "markdown",
   "metadata": {},
   "source": [
    "# Run Specific Params"
   ]
  },
  {
   "cell_type": "code",
   "execution_count": null,
   "metadata": {
    "collapsed": false
   },
   "outputs": [],
   "source": [
    "date = ''\n",
    "target_sequence_filename = \"/shared/targets.yml\"\n",
    "Imin_name = 'Imin_const'\n",
    "Imax_name = 'Imax_adjusted'\n",
    "inten_fmt = 'LDA'\n",
    "TA_calibration_strategy = 'neg_control'  # ['pam', 'neg_control', 'all_possible']\n",
    "ABA_zero_strategy = 'neg_control'  # neg_control or max_concentration\n",
    "\n",
    "dname = '_'.join([inten_fmt, Imin_name, Imax_name, TA_calibration_strategy, ABA_zero_strategy])\n",
    "fig_dir = 'analysis/figs'\n",
    "results_dir = 'analysis/results'\n",
    "\n",
    "with open(target_sequence_filename) as f:\n",
    "    targets = yaml.load(f)\n",
    "    \n",
    "custom_results_dir = os.path.join('results', date, 'custom')\n",
    "custom_fig_dir = os.path.join('figs', date, 'custom')\n",
    "inten_array_fpath = os.path.join(custom_results_dir, 'LDA_intensity_scores.txt')\n",
    "print 'Date:', date"
   ]
  },
  {
   "cell_type": "markdown",
   "metadata": {},
   "source": [
    "Load Data\n",
    "==="
   ]
  },
  {
   "cell_type": "code",
   "execution_count": null,
   "metadata": {
    "collapsed": false
   },
   "outputs": [],
   "source": [
    "ExperimentStats = namedtuple('ExperimentStats', 'date project_name target_name')\n",
    "runs = [\n",
    "    ExperimentStats(date, project_name, target_name) \n",
    "    for date, project_name, target_name in\n",
    "    [\n",
    "        ('', '', ''), \n",
    "    ]\n",
    "]"
   ]
  },
  {
   "cell_type": "code",
   "execution_count": null,
   "metadata": {
    "collapsed": false
   },
   "outputs": [],
   "source": [
    "target_by_run = {run: targets[run.target_name] for run in runs}"
   ]
  },
  {
   "cell_type": "code",
   "execution_count": null,
   "metadata": {
    "collapsed": false
   },
   "outputs": [],
   "source": [
    "custom_results_dir = {run: os.path.join('results', run.date, 'custom')\n",
    "                      for run in runs}\n",
    "\n",
    "target_len = len(target_by_run[runs[0]])\n",
    "print 'Target Length:', target_len\n",
    "print\n",
    "for run in runs:\n",
    "    print 'Target', run.target_name\n",
    "    print 'Date:', run.date\n",
    "    print 'Results dir:', custom_results_dir[run]\n",
    "    assert os.path.isdir(custom_results_dir[run])\n",
    "    print"
   ]
  },
  {
   "cell_type": "markdown",
   "metadata": {},
   "source": [
    "## Load Data"
   ]
  },
  {
   "cell_type": "code",
   "execution_count": null,
   "metadata": {
    "collapsed": false
   },
   "outputs": [],
   "source": [
    "Kds, Kd_error = {run: {} for run in runs}, {run: {} for run in runs}\n",
    "ABAs, ABA_error = {run: {} for run in runs}, {run: {} for run in runs}\n",
    "ddGs, ddG_error = {run: {} for run in runs}, {run: {} for run in runs}\n",
    "neg_control_target_by_run = {}\n",
    "max_concentration_by_run = {}\n",
    "for run in runs:\n",
    "    print run.date, run.target_name\n",
    "    fname = 'LDA_Imin_const_Imax_adjusted_Kds_and_ABAs.txt'\n",
    "    fpath = os.path.join(custom_results_dir[run], fname)\n",
    "    with open(fpath) as f:\n",
    "        line = next(f)\n",
    "        assert line.startswith('# Target:')\n",
    "        target = line.strip().split(': ')[1]\n",
    "        print target\n",
    "        line = next(f)\n",
    "        assert line.startswith('# Neg Control')\n",
    "        neg_control_target_by_run[run] = line.strip().split(': ')[1]\n",
    "        line = next(f)\n",
    "        assert line.startswith('# Concentration')\n",
    "        line = next(f)\n",
    "        while not line.startswith('#'):\n",
    "            max_concentration_by_run[run] = float(line.strip().split()[0])\n",
    "            line = next(f)\n",
    "        assert line.startswith('# Seq')\n",
    "        for line in f:\n",
    "            if line.startswith('#'):\n",
    "                continue\n",
    "            words = line.strip().split()\n",
    "            seq = words[0]\n",
    "            assert seq not in Kds[run], seq\n",
    "            Kd, Kd_err, ABA, ABA_err = map(float, words[1:])\n",
    "            Kds[run][seq] = Kd\n",
    "            Kd_error[run][seq] = Kd_err\n",
    "            ABAs[run][seq] = ABA\n",
    "            ABA_error[run][seq] = ABA_err\n",
    "    ddGs[run] = {seq: ABAs[run][target] - ABA for seq, ABA in ABAs[run].items()}\n",
    "\n",
    "    ddG_error[run] = ABA_error[run]"
   ]
  },
  {
   "cell_type": "code",
   "execution_count": null,
   "metadata": {
    "collapsed": true
   },
   "outputs": [],
   "source": [
    "flabpal = {'blue': (.365, .647, .855),\n",
    "           'yellow': (.871, .812, .247),\n",
    "           'green': (.376, .741, .408),\n",
    "           'red': (.945, .345, .329)}"
   ]
  },
  {
   "cell_type": "code",
   "execution_count": null,
   "metadata": {
    "collapsed": true
   },
   "outputs": [],
   "source": [
    "bases = 'ACGT'\n",
    "color_given_base = dict(A=flabpal['blue'], C=flabpal['yellow'], G=flabpal['green'], T=flabpal['red'])"
   ]
  },
  {
   "cell_type": "code",
   "execution_count": null,
   "metadata": {
    "collapsed": false
   },
   "outputs": [],
   "source": [
    "IA = intensity_array.IntensityArray()\n",
    "intensity_filename = os.path.join('results', date, 'custom', 'LDA_intensity_scores.txt')\n",
    "IA.parse_intensities_file(intensity_filename)\n",
    "\n",
    "def get_cluster_count_range(seq):\n",
    "    cluster_counts = []\n",
    "    for lol in IA.intensity_lol_given_seq[seq]: \n",
    "        cluster_counts.append(len([i for i in lol if i is not None]))\n",
    "    return min(cluster_counts), max(cluster_counts)\n",
    "\n",
    "for run in runs:\n",
    "    target = targets[run.target_name]\n",
    "    fig, ax = plt.subplots(figsize=(15, 5))\n",
    "    idxs = np.arange(len(target))\n",
    "    w = 0.5\n",
    "    cluster_counts = {}\n",
    "    for j, c in enumerate(bases):\n",
    "        cluster_counts[c] = {}\n",
    "        loc_ddGs = []\n",
    "        loc_ddG_error = []\n",
    "        ticks = []\n",
    "        for i, t in enumerate(target):\n",
    "            seq = target[:i] + c + target[i+1:]\n",
    "            min_clusters, max_clusters = get_cluster_count_range(seq)\n",
    "            cluster_counts[c][i] = min_clusters\n",
    "            \n",
    "            if seq in ddGs[run]:\n",
    "                loc_ddGs.append(ddGs[run][seq])\n",
    "                loc_ddG_error.append(ddG_error[run][seq])\n",
    "                ticks.append(idxs[i])\n",
    "                \n",
    "        ticks = np.array(ticks)\n",
    "        ax.bar(ticks - w/2.0 + w*j/4.0, loc_ddGs, \n",
    "               width=w/4.0, yerr=loc_ddG_error, \n",
    "               color=color_given_base[c], error_kw=dict(ecolor='k', alpha=0.6), label=c)\n",
    "    ax.xaxis.grid(False)\n",
    "    ax.set_xlim((-0.5, len(target)-0.5))\n",
    "    ax.set_xticks(range(len(target)))\n",
    "    ax.set_xticklabels(target)\n",
    "\n",
    "    ylim = ax.get_ylim()\n",
    "    for i, c in enumerate(target):\n",
    "        ax.fill_between([i-0.5, i+0.5], [ylim[0]]*2, [ylim[1]]*2, color=color_given_base[c], alpha=0.14)\n",
    "    ax.set_ylim(ylim)\n",
    "    for i, _ in enumerate(target):\n",
    "        y_offset = 0.05\n",
    "        ax.text(i-w/1.3, ylim[1]-y_offset, \"N=\")\n",
    "        for base in bases:\n",
    "            y_offset += 0.05\n",
    "            ax.text(i-w/1.3, ylim[1]-y_offset, cluster_counts[base][i], fontdict={'color': color_given_base[base]})\n",
    "    fs = 16\n",
    "    ax.set_title('Single Mismatch Penalties'.format(r=run), fontsize=fs)\n",
    "    ax.set_xlabel('Target {r.target_name} Reference Sequence (Background Color)'.format(r=run), fontsize=fs)\n",
    "    ax.set_ylabel(r'$ABA (K_{B}T)$', fontsize=fs)\n",
    "    ax.legend(loc='right')\n",
    "    ax.xaxis.set_ticks_position('none') \n",
    "    fig.savefig(os.path.join(fig_dir, 'doped_ham1.eps'))\n",
    "    print"
   ]
  },
  {
   "cell_type": "markdown",
   "metadata": {},
   "source": [
    "## Looks like it needs a model\n",
    "\n",
    "This looks very much like there are specific transition penalties from reference to mismatch bases with position-specific weighting of those penalties. Let $T$ be the 4-by-4 transition matrix, $p$ be the position specific weights, and for sequence $i$ let $S_i$ be the 35-by-16 indicator matrix of position-by-transition. That is, given $S_i$, one can reconstruct both the reference and given sequences. Then our model is:"
   ]
  },
  {
   "cell_type": "markdown",
   "metadata": {},
   "source": [
    "$$\n",
    "    \\Delta \\Delta G = (p \\otimes vec(T)) : S_i\n",
    "$$"
   ]
  },
  {
   "cell_type": "markdown",
   "metadata": {},
   "source": [
    "where $vec(T)$ is the natural flattening of $T$, $\\otimes$ is the outer product, and $:$ is the Frobenius matrix inner product."
   ]
  },
  {
   "cell_type": "markdown",
   "metadata": {},
   "source": [
    "### Consider separately"
   ]
  },
  {
   "cell_type": "code",
   "execution_count": null,
   "metadata": {
    "collapsed": true
   },
   "outputs": [],
   "source": [
    "import scipy.sparse\n",
    "import scipy.optimize"
   ]
  },
  {
   "cell_type": "code",
   "execution_count": null,
   "metadata": {
    "collapsed": true
   },
   "outputs": [],
   "source": [
    "def single_ham_seqs(ref):\n",
    "    seqs = []\n",
    "    for i, ref_base in enumerate(ref):\n",
    "        for mm_base in bases.replace(ref_base, ''):\n",
    "            seqs.append(ref[:i] + mm_base + ref[i+1:])\n",
    "    return seqs"
   ]
  },
  {
   "cell_type": "code",
   "execution_count": null,
   "metadata": {
    "collapsed": true
   },
   "outputs": [],
   "source": [
    "def single_ham_mutation_name(ref, seq):\n",
    "    found = False\n",
    "    for i, (ref_base, seq_base) in enumerate(zip(ref, seq)):\n",
    "        if ref_base != seq_base:\n",
    "            assert not found, '%s\\n%s' % (ref, seq)\n",
    "            found = True\n",
    "            name = '%s%d%s' % (ref_base, i, seq_base)\n",
    "    return name"
   ]
  },
  {
   "cell_type": "code",
   "execution_count": null,
   "metadata": {
    "collapsed": false
   },
   "outputs": [],
   "source": [
    "M = {}\n",
    "for run in runs:\n",
    "    target = targets[run.target_name]\n",
    "    transition_ddGs = defaultdict(list)\n",
    "    flipout_idxs = []\n",
    "    for seq in single_ham_seqs(target):\n",
    "        name = single_ham_mutation_name(target, seq)\n",
    "        transition = (name[0], name[-1])\n",
    "        location = int(name[1:-1])\n",
    "        if location in flipout_idxs:\n",
    "            continue\n",
    "        transition_ddGs[transition].append(ddGs[run][seq])\n",
    "\n",
    "    M[run] = np.zeros((4, 4))\n",
    "    for i, c1 in enumerate(bases):\n",
    "        for j, c2 in enumerate(bases):\n",
    "            if i != j:\n",
    "                M[run][i, j] = np.average(transition_ddGs[(c1, c2)])\n",
    "\n",
    "    fig, ax = plt.subplots(figsize=(8, 6))\n",
    "    ms = ax.matshow(M[run], cmap=plt.get_cmap('Reds'))\n",
    "    ax.set_ylabel('From')\n",
    "    ax.set_xlabel('To')\n",
    "    ax.set_xticks(range(4))\n",
    "    ax.set_yticks(range(4))\n",
    "    ax.set_xticklabels(bases)\n",
    "    ax.set_yticklabels(bases)\n",
    "    ax.xaxis.set_ticks_position('bottom')\n",
    "    ax.set_title('Target {r.target_name} Average Mismatch Penalties'.format(r=run))\n",
    "\n",
    "    cbar = plt.colorbar(ms)\n",
    "    cbar.set_label(r'$\\Delta \\Delta G \\left(k_B T\\right)$', fontsize=fs)\n",
    "    print"
   ]
  },
  {
   "cell_type": "code",
   "execution_count": null,
   "metadata": {
    "collapsed": true
   },
   "outputs": [],
   "source": [
    "def sequence_transition_vector(ref, seq):\n",
    "    v = np.zeros((target_len * 12,))\n",
    "    for i, (ref_base, seq_base) in enumerate(zip(ref, seq)):\n",
    "        if ref_base != seq_base:\n",
    "            idx = 12*i + 3*bases.index(ref_base) + bases.index(seq_base) \\\n",
    "                  - int(bases.index(seq_base) > bases.index(ref_base))\n",
    "            v[idx] = 1\n",
    "    return v"
   ]
  },
  {
   "cell_type": "code",
   "execution_count": null,
   "metadata": {
    "collapsed": false
   },
   "outputs": [],
   "source": [
    "A, data = {}, {}\n",
    "for run in runs:\n",
    "    target = targets[run.target_name]\n",
    "    rows, cols, tmp_data = [], [], []\n",
    "    for i, seq in enumerate(single_ham_seqs(target)):\n",
    "        tmp_data.append(ddGs[run][seq])\n",
    "        v = sequence_transition_vector(target, seq)\n",
    "        for j, val in enumerate(v):\n",
    "            if val:\n",
    "                rows.append(i)\n",
    "                cols.append(j)\n",
    "    A[run] = scipy.sparse.coo_matrix((np.ones((len(rows),)), (rows, cols)), \n",
    "                                     shape=(len(single_ham_seqs(target)), target_len*12), dtype=np.int8)\n",
    "    A[run] = A[run].tocsr()\n",
    "    data[run] = np.array(tmp_data)"
   ]
  },
  {
   "cell_type": "code",
   "execution_count": null,
   "metadata": {
    "collapsed": false
   },
   "outputs": [],
   "source": [
    "res = {}\n",
    "for run in runs:\n",
    "    def score_free_transition(params):\n",
    "        return np.linalg.norm(A[run].dot(np.outer(params[:target_len], params[target_len:]).flatten()) - data[run])\n",
    "\n",
    "    x0 = np.ones((target_len+12,))\n",
    "    for i in range(4):\n",
    "        for j in range(3):\n",
    "            if j < i:\n",
    "                val = M[run][i, j]\n",
    "            else:\n",
    "                val = M[run][i, j+1]\n",
    "            x0[target_len + 3*i + j] = val\n",
    "    res[run] = scipy.optimize.minimize(score_free_transition, x0, method='Powell')"
   ]
  },
  {
   "cell_type": "code",
   "execution_count": null,
   "metadata": {
    "collapsed": false
   },
   "outputs": [],
   "source": [
    "pred = {run: A[run].dot(np.outer(res[run].x[:target_len], res[run].x[target_len:]).flatten())\n",
    "        for run in runs}"
   ]
  },
  {
   "cell_type": "code",
   "execution_count": null,
   "metadata": {
    "collapsed": false
   },
   "outputs": [],
   "source": [
    "for run in runs:\n",
    "    target = targets[run.target_name]\n",
    "    \n",
    "    fig = plt.figure(figsize=(15, 8))\n",
    "    ax = plt.subplot2grid((2, 3), (0, 0), colspan=3)\n",
    "\n",
    "    idxs = np.arange(len(target))\n",
    "    w = 0.7\n",
    "\n",
    "    all_idxs = []\n",
    "    all_pred = []\n",
    "    sin_hams = single_ham_seqs(target)\n",
    "    for j, c in enumerate(bases):\n",
    "        loc_ddGs = []\n",
    "        loc_ddG_error = []\n",
    "        loc_pred = []\n",
    "        for i, t in enumerate(target):\n",
    "            seq = target[:i] + c + target[i+1:]\n",
    "            loc_ddGs.append(ddGs[run][seq])\n",
    "            loc_ddG_error.append(ddG_error[run][seq])\n",
    "            if seq != target:\n",
    "                loc_pred.append(pred[run][sin_hams.index(seq)])\n",
    "            else:\n",
    "                loc_pred.append(0)\n",
    "        ax.bar(idxs - w/2.0 + w*(j/4.0), loc_ddGs, \n",
    "               width=w/4.0, yerr=loc_ddG_error, \n",
    "               color=color_given_base[c], error_kw=dict(ecolor='k', alpha=0.6), label=c)\n",
    "\n",
    "        all_idxs = np.r_[all_idxs, idxs - w/2.0 + w*(j)/4.0]\n",
    "        all_pred += loc_pred\n",
    "\n",
    "    #ax.bar(all_idxs, all_pred, width=w/4.0, color='k', alpha=0.3)\n",
    "    ax.xaxis.grid(False)\n",
    "    ax.set_xlim((-0.5, len(target)-0.5))\n",
    "    ax.set_xticks(range(len(target)))\n",
    "    ax.set_xticklabels(target)\n",
    "\n",
    "    ylim = ax.get_ylim()\n",
    "    for i, c in enumerate(target):\n",
    "        ax.fill_between([i-0.5, i+0.5], [ylim[0]]*2, [ylim[1]]*2, color=color_given_base[c], alpha=0.07)\n",
    "    ax.plot([target_len - 3.5]*2, ylim, 'k', alpha=0.8, linewidth=0.7)\n",
    "    ax.set_ylim(ylim)\n",
    "\n",
    "    fs = 16\n",
    "    ax.set_title('{r.date} Target {r.target_name} Single Mismatch ABAs'.format(r=run), fontsize=fs)\n",
    "    ax.set_xlabel('Target {} Reference Sequence'.format(run.target_name), fontsize=fs)\n",
    "    ax.set_ylabel(r'$ABA (K_{B}T)$', fontsize=fs)\n",
    "    ax.legend(loc='best')\n",
    "\n",
    "    # Transition weights\n",
    "    ax = plt.subplot2grid((2, 3), (1, 1))\n",
    "    Mpred = np.zeros((4, 4))\n",
    "    for i in range(4):\n",
    "        for j in range(3):\n",
    "            val = res[run].x[target_len + 3*i + j]\n",
    "            if j < i:\n",
    "                Mpred[i, j] = val\n",
    "            else:\n",
    "                Mpred[i, j+1] = val\n",
    "    sum_M = Mpred.sum()\n",
    "    Mpred /= sum_M\n",
    "\n",
    "\n",
    "    ms = ax.matshow(Mpred, cmap=plt.get_cmap('Reds'))\n",
    "    ax.grid(False)\n",
    "    ax.set_ylabel('From')\n",
    "    ax.set_xlabel('To')\n",
    "    ax.set_xticks(range(4))\n",
    "    ax.set_yticks(range(4))\n",
    "    ax.set_xticklabels(bases)\n",
    "    ax.set_yticklabels(bases)\n",
    "    ax.xaxis.set_ticks_position('bottom')\n",
    "    ax.set_title('Transition Penalties')\n",
    "\n",
    "    cbar = plt.colorbar(ms)\n",
    "    cbar.set_label(r'$k_B T$', fontsize=10)\n",
    "\n",
    "    # Position Weights\n",
    "    ax = plt.subplot2grid((2, 3), (1, 0))\n",
    "    ax.plot(range(-2, target_len - 2), sum_M * res[run].x[:target_len])\n",
    "    ax.set_xlabel('Position (PAM < 0, Target > 0)')\n",
    "    ax.set_ylabel('Weight')\n",
    "    ax.set_title('Position Weights')\n",
    "    ticks = [-2, 0, 1] + range(6, target_len - 2, 6)\n",
    "    labels = [-3, -1] + ticks[2:]\n",
    "    ax.set_xticks(ticks)\n",
    "    ax.set_xticklabels(labels)\n",
    "    ax.set_xlim((-2, target_len - 3))\n",
    "\n",
    "    # Predicted v Measures\n",
    "    ax = plt.subplot2grid((2, 3), (1, 2))\n",
    "    ddG_vals = [ddGs[run][seq] for seq in sin_hams]\n",
    "    ax.plot(ddG_vals, pred[run], '.')\n",
    "    ax.set_xlabel(r'Measured $\\Delta \\Delta G$ ($k_B T$)')\n",
    "    ax.set_ylabel(r'Fit ABA ($k_B T$)')\n",
    "#    ax.text(0, 10, '$R^2 = %.2f$' % R2(ddG_vals, pred[run]), fontsize=16, va='center')\n",
    "    ax.set_title('Fit vs. Measured ABA')\n",
    "    ax.set_aspect(1)\n",
    "\n",
    "#    fig.savefig(os.path.join(custom_fig_dir, 'position_transition_model.pdf'))\n",
    "    print"
   ]
  },
  {
   "cell_type": "code",
   "execution_count": null,
   "metadata": {
    "collapsed": true
   },
   "outputs": [],
   "source": [
    "from scipy.stats import pearsonr"
   ]
  },
  {
   "cell_type": "code",
   "execution_count": null,
   "metadata": {
    "collapsed": false
   },
   "outputs": [],
   "source": [
    "fig = plt.figure(figsize=(15, 12))\n",
    "\n",
    "for row, run in enumerate(runs):\n",
    "    target = targets[run.target_name]\n",
    "    sin_hams = single_ham_seqs(target)\n",
    "    Mpred = np.zeros((4, 4))\n",
    "    for i in range(4):\n",
    "        for j in range(3):\n",
    "            val = res[run].x[target_len + 3*i + j]\n",
    "            if j < i:\n",
    "                Mpred[i, j] = val\n",
    "            else:\n",
    "                Mpred[i, j+1] = val\n",
    "    avg_M = np.average([xx for xx in Mpred.flatten() if xx > 0])\n",
    "    Mpred /= avg_M\n",
    "\n",
    "    \n",
    "    # Position Weights\n",
    "    ax = plt.subplot2grid((3, 4), (row, 0), colspan=2)\n",
    "    ax.plot(range(target_len), -avg_M * res[run].x[:target_len])\n",
    "    ax.set_xlabel('Position')\n",
    "    ax.set_ylabel('Penalty ($k_B T$)')\n",
    "    #ticks = [-2, 0, 1] + range(6, target_len - 2, 6)\n",
    "    #labels = [-3, -1] + ticks[2:]\n",
    "    #ax.set_xticks(ticks)\n",
    "    #ax.set_xticklabels(labels)\n",
    "    ax.set_xticks(range(0, target_len, 5))\n",
    "    xlim = (0, target_len-1)\n",
    "    ax.plot(xlim, [0]*2, '--', color='grey', zorder=-1)\n",
    "    ax.set_xlim(xlim)\n",
    "    ylim = ax.get_ylim()\n",
    "    #ax.fill_between([xlim[0], 0.5], ylim[0], ylim[1], color=0.8*np.ones((3,)), zorder=-10)\n",
    "    ax.grid(False)\n",
    "    ax.set_axis_bgcolor('white')\n",
    "    ax.set_title('{} Target {}'.format(run.date, run.target_name))\n",
    "\n",
    "    # Transition weights\n",
    "    ax = plt.subplot2grid((3, 4), (row, 2))\n",
    "    mn = min(xx for xx in Mpred.flatten() if xx > 0)\n",
    "    mx = max(xx for xx in Mpred.flatten() if xx > 0)\n",
    "    mx_diff = max(abs(1-mn), abs(mx-1))\n",
    "    Mpred[Mpred == 0] = None\n",
    "    ms = ax.matshow(Mpred, cmap=plt.get_cmap('coolwarm'), vmin=1-mx_diff, vmax=1+mx_diff)\n",
    "    ax.grid(False)\n",
    "    ax.set_ylabel('From')\n",
    "    ax.set_xlabel('To')\n",
    "    ax.set_xticks(range(4))\n",
    "    ax.set_yticks(range(4))\n",
    "    ax.set_xticklabels(bases)\n",
    "    ax.set_yticklabels(bases)\n",
    "    ax.xaxis.set_ticks_position('bottom')\n",
    "\n",
    "    cbar = plt.colorbar(ms)\n",
    "    cbar.set_label(r'Weight', fontsize=10)\n",
    "\n",
    "    # Predicted v Measures\n",
    "    ax = plt.subplot2grid((3, 4), (row, 3))\n",
    "    ddG_vals = [-ddGs[run][seq] for seq in sin_hams]\n",
    "    pred_vals = [-p for p in pred[run]]\n",
    "    ax.plot(ddG_vals, pred_vals, '.')\n",
    "    ax.set_xlabel(r'$\\Delta ABA_{measured}$ ($k_B T$)')\n",
    "    ax.set_ylabel(r'$\\Delta ABA_{fit}$ ($k_B T$)')\n",
    "#    ax.text(0, 10, '$R^2 = %.2f$' % R2(ddG_vals, pred[run]), fontsize=16, va='center')\n",
    "    ax.set_aspect(1)\n",
    "    xlim, ylim = ax.get_xlim(), ax.get_ylim()\n",
    "    r, pval = pearsonr(ddG_vals, pred_vals)\n",
    "    ax.text((3*xlim[0] + xlim[1])/4, (ylim[0] + 3*ylim[1])/4, '$r=%.2f$' % r, fontsize=16, ha='center', va='center')\n",
    "    ax.grid(False)\n",
    "    ax.set_axis_bgcolor('white')\n",
    "\n",
    "fig.savefig(os.path.join(fig_dir, 'position_transition_models.png'), dpi=300)\n",
    "fig.savefig(os.path.join(fig_dir, 'position_transition_models.eps'))\n",
    "print"
   ]
  },
  {
   "cell_type": "markdown",
   "metadata": {},
   "source": [
    "# All together"
   ]
  },
  {
   "cell_type": "markdown",
   "metadata": {},
   "source": [
    "## Calibrate Data"
   ]
  },
  {
   "cell_type": "code",
   "execution_count": null,
   "metadata": {
    "collapsed": false
   },
   "outputs": [],
   "source": [
    "ref_run = runs[0]\n",
    "\n",
    "def find_calibration_divisors(strategy='pam'):\n",
    "    assert strategy in ['pam', 'neg_control', 'all_possible']\n",
    "    divisor = {}\n",
    "\n",
    "    ref_target = targets[ref_run.target_name]\n",
    "\n",
    "    cutoffs = {}\n",
    "    for run in runs:\n",
    "        single_mm_ddGs = [ddGs[run][seq] for seq in single_ham_seqs(target_by_run[run])]\n",
    "        cutoffs[run] = 0.8 * max(single_mm_ddGs)\n",
    "\n",
    "    for other_run in runs:\n",
    "        other_target = targets[other_run.target_name]\n",
    "        ref_vals, other_vals = [], []\n",
    "        if strategy == 'all_possible':\n",
    "            for i in range(target_len):\n",
    "                for mm_base in bases.replace(ref_target[i], ''):\n",
    "                    if ref_target[i] != other_target[i]:\n",
    "                        continue\n",
    "                    ref_seq = ref_target[:i] + mm_base + ref_target[i+1:]\n",
    "                    other_seq = other_target[:i] + mm_base + other_target[i+1:]\n",
    "\n",
    "                    ref_ddG = ddGs[ref_run][ref_seq]\n",
    "                    other_ddG = ddGs[other_run][other_seq]\n",
    "\n",
    "                    if ref_ddG < cutoffs[ref_run] and other_ddG < cutoffs[other_run]:\n",
    "                        ref_vals.append(ref_ddG)\n",
    "                        other_vals.append(other_ddG)\n",
    "        elif strategy == 'pam':\n",
    "            for i in range(target_len-3, target_len):\n",
    "                for mm_base in bases.replace(ref_target[i], ''):\n",
    "                    if i == 1 and mm_base == 'C':\n",
    "                        # Unreliable in two runs\n",
    "                        continue\n",
    "                    ref_seq = ref_target[:i] + mm_base + ref_target[i+1:]\n",
    "                    other_seq = other_target[:i] + mm_base + other_target[i+1:]\n",
    "\n",
    "                    ref_vals.append(ddGs[ref_run][ref_seq])\n",
    "                    other_vals.append(ddGs[other_run][other_seq])\n",
    "        elif strategy == 'neg_control':\n",
    "            ref_vals.append(ddGs[ref_run][neg_control_target_by_run[ref_run]])\n",
    "            other_vals.append(ddGs[other_run][neg_control_target_by_run[other_run]])\n",
    "            \n",
    "        def div_sq_err(dvsr):\n",
    "            return sum((rval - (float(oval)/dvsr))**2 for rval, oval in zip(ref_vals, other_vals))\n",
    "\n",
    "        res = scipy.optimize.minimize(div_sq_err, 1.0, method='Powell')\n",
    "        divisor[other_run] = float(res.x)\n",
    "    divisor[ref_run] = 1.0\n",
    "    return divisor"
   ]
  },
  {
   "cell_type": "code",
   "execution_count": null,
   "metadata": {
    "collapsed": false
   },
   "outputs": [],
   "source": [
    "divisor = find_calibration_divisors(strategy=TA_calibration_strategy)\n",
    "for run in runs:\n",
    "    print '{}, Target {}: {:.2f}'.format(run.date, run.target_name, 1.0/divisor[run])"
   ]
  },
  {
   "cell_type": "code",
   "execution_count": null,
   "metadata": {
    "collapsed": false
   },
   "outputs": [],
   "source": [
    "if ABA_zero_strategy == 'neg_control':\n",
    "    ABA_zero = {run: ABAs[run][neg_control_target_by_run[run]] for run in runs}\n",
    "elif ABA_zero_strategy == 'max_concentration':\n",
    "    ABA_zero = {run: np.log(Kds[run][neg_control_target_by_run[run]]) - np.log(max_concentration_by_run[run]) for run in runs}\n",
    "else:\n",
    "    assert False, 'Invalid ABA_zero_strategy'\n",
    "    \n",
    "for run in runs:\n",
    "    ABAs[run] = {seq: (ABA - ABA_zero[run])/divisor[run] for seq, ABA in ABAs[run].items()}\n",
    "    ABA_error[run] = {seq: err/divisor[run] for seq, err in ABA_error[run].items()}\n",
    "    ddGs[run] = {seq: ddG/divisor[run] for seq, ddG in ddGs[run].items()}\n",
    "    ddG_error[run] = {seq: err/divisor[run] for seq, err in ddG_error[run].items()}"
   ]
  },
  {
   "cell_type": "markdown",
   "metadata": {},
   "source": [
    "## Model"
   ]
  },
  {
   "cell_type": "code",
   "execution_count": null,
   "metadata": {
    "collapsed": false
   },
   "outputs": [],
   "source": [
    "total_seqs = 0\n",
    "rows, cols, tmp_data = [], [], []\n",
    "for run in runs:\n",
    "    print run\n",
    "    target = targets[run.target_name]\n",
    "    for i, seq in enumerate(single_ham_seqs(target)):\n",
    "        tmp_data.append((ddGs[run][seq]))\n",
    "        v = sequence_transition_vector(target, seq)\n",
    "        for j, val in enumerate(v):\n",
    "            if val:\n",
    "                rows.append(total_seqs)\n",
    "                cols.append(j)\n",
    "        total_seqs += 1\n",
    "A = scipy.sparse.coo_matrix((np.ones((len(rows),)), (rows, cols)), \n",
    "                            shape=(total_seqs, target_len*12), dtype=np.int)\n",
    "A = A.tocsr()\n",
    "data = np.array(tmp_data)"
   ]
  },
  {
   "cell_type": "code",
   "execution_count": null,
   "metadata": {
    "collapsed": false
   },
   "outputs": [],
   "source": [
    "def score_free_transition(params):\n",
    "    return np.linalg.norm(A.dot(np.outer(params[:target_len], params[target_len:]).flatten()) - data)\n",
    "\n",
    "x0 = np.ones((target_len+12,))\n",
    "for i in range(4):\n",
    "    for j in range(3):\n",
    "        if j < i:\n",
    "            val = M[ref_run][i, j]\n",
    "        else:\n",
    "            val = M[ref_run][i, j+1]\n",
    "    x0[target_len + 3*i + j] = val\n",
    "res = scipy.optimize.minimize(score_free_transition, x0, method='Powell')\n",
    "print 'Success:', res.success"
   ]
  },
  {
   "cell_type": "code",
   "execution_count": null,
   "metadata": {
    "collapsed": false
   },
   "outputs": [],
   "source": [
    "pred = A.dot(np.outer(res.x[:target_len], res.x[target_len:]).flatten())"
   ]
  },
  {
   "cell_type": "code",
   "execution_count": null,
   "metadata": {
    "collapsed": true
   },
   "outputs": [],
   "source": [
    "from scipy.stats import pearsonr"
   ]
  },
  {
   "cell_type": "code",
   "execution_count": null,
   "metadata": {
    "collapsed": false
   },
   "outputs": [],
   "source": [
    "fig = plt.figure(figsize=(15, 4))\n",
    "\n",
    "# Transition weights\n",
    "ax = plt.subplot2grid((1, 3), (0, 1))\n",
    "Mpred = np.zeros((4, 4))\n",
    "for i in range(4):\n",
    "    for j in range(3):\n",
    "        val = res.x[target_len + 3*i + j]\n",
    "        if j < i:\n",
    "            Mpred[i, j] = val\n",
    "        else:\n",
    "            Mpred[i, j+1] = val\n",
    "sum_M = Mpred.sum()\n",
    "vals = [v for v in Mpred.flatten() if v > 0]\n",
    "avg_M = np.average(vals)\n",
    "Mpred /= avg_M\n",
    "extremum = max(abs(v-1) for v in Mpred.flatten() if v > 0)\n",
    "for i in range(4):\n",
    "    Mpred[i, i] = None\n",
    "\n",
    "\n",
    "ms = ax.matshow(Mpred, cmap=plt.get_cmap('coolwarm'), vmin=1-extremum, vmax=1+extremum)\n",
    "ax.grid(False)\n",
    "ax.set_ylabel('From')\n",
    "ax.set_xlabel('To')\n",
    "ax.set_xticks(range(4))\n",
    "ax.set_yticks(range(4))\n",
    "ax.set_xticklabels(bases)\n",
    "ax.set_yticklabels(bases)\n",
    "ax.xaxis.set_ticks_position('bottom')\n",
    "ax.set_title('Transition Weights')\n",
    "#ax.set_axis_bgcolor('white')\n",
    "\n",
    "cbar = plt.colorbar(ms)\n",
    "cbar.set_label(r'Weight', fontsize=10)\n",
    "\n",
    "\n",
    "# Position Weights\n",
    "ax = plt.subplot2grid((1, 3), (0, 0))\n",
    "pos_weights = avg_M * res.x[:target_len]\n",
    "ax.plot(range(target_len), pos_weights)\n",
    "xlim = (0, target_len - 1)\n",
    "ax.plot(xlim, [0]*2, 'k:', zorder=-1)\n",
    "ax.set_xlabel('Position')\n",
    "ax.set_ylabel('Penalty ($k_B T$)')\n",
    "ax.set_title('Position Penalties')\n",
    "#ticks = [-2, 0, 1] + range(6, target_len - 2, 6)\n",
    "#labels = [-3, -1] + ticks[2:]\n",
    "#ax.set_xticks(ticks)\n",
    "#ax.set_xticklabels(labels)\n",
    "ax.set_xticks(range(0, target_len, 5))\n",
    "ax.set_xlim(xlim)\n",
    "ax.set_axis_bgcolor('white')\n",
    "ax.grid(False)\n",
    "\n",
    "# Predicted v Measures\n",
    "ax = plt.subplot2grid((1, 3), (0, 2))\n",
    "ddG_vals = []\n",
    "for run in runs:\n",
    "    ddG_vals.extend([(ddGs[run][seq])\n",
    "                     for seq in single_ham_seqs(targets[run.target_name])])\n",
    "\n",
    "for i, run in enumerate(runs):\n",
    "    start = target_len*3 * i\n",
    "    end = target_len*3 * (i+1)\n",
    "    ax.plot(ddG_vals[start:end], pred[start:end], '.',\n",
    "            label='T{}, {}-{}'.format(run.target_name, run.date[-4:-2], run.date[-2:]))\n",
    "ax.set_xlabel(r'Measured $\\Delta \\Delta G$ ($k_B T$)')\n",
    "ax.set_ylabel(r'Fit $\\Delta \\Delta G$ ($k_B T$)')\n",
    "\n",
    "r, pval = pearsonr(ddG_vals, pred)\n",
    "ax.text(0.25, 1, '$r = %.2f$' % r, fontsize=16, va='center', ha='center')\n",
    "ax.set_title('Fit vs. Measured $\\Delta \\Delta G$')\n",
    "ax.set_aspect(1)\n",
    "ax.set_xticks(range(0, 2))\n",
    "ax.set_yticks(range(0, 2))\n",
    "ax.legend(loc='lower right')\n",
    "ax.get_legend().get_frame().set_facecolor('white')\n",
    "ax.set_axis_bgcolor('white')\n",
    "ax.grid(False)\n",
    "\n",
    "xlim, ylim = ax.get_xlim(), ax.get_ylim()\n",
    "min_low = min(xlim[0], ylim[0])\n",
    "max_high = max(xlim[1], ylim[1])\n",
    "lim = (min_low, max_high)\n",
    "ax.plot(lim, lim, 'k', alpha=0.5, zorder=-1)\n",
    "ax.set_xlim(lim)\n",
    "ax.set_ylim(lim)\n",
    "\n",
    "fig.savefig(os.path.join(fig_dir, 'TA_TC_position_transition_model_all.png'), dpi=300)\n",
    "fig.savefig(os.path.join(fig_dir, 'TA_TC_position_transition_model_all.eps'))\n",
    "print"
   ]
  },
  {
   "cell_type": "code",
   "execution_count": null,
   "metadata": {
    "collapsed": false
   },
   "outputs": [],
   "source": [
    "with open(os.path.join(results_dir, 'position_transition_weights.txt'), 'w') as out:\n",
    "    out.write('Transition weights:\\n')\n",
    "    for row, from_base in zip(Mpred, bases):\n",
    "        out.write('\\t'.join([from_base] + ['%.3f' % w for w in row]) + '\\n')\n",
    "    out.write('\\t'.join(['From/To'] + list(bases)) + '\\n')\n",
    "    out.write('\\n')\n",
    "    out.write('Position weights:\\n')\n",
    "    out.write('\\n'.join(['%.3f' % w for w in pos_weights]))"
   ]
  },
  {
   "cell_type": "markdown",
   "metadata": {},
   "source": [
    "# All ABAs"
   ]
  },
  {
   "cell_type": "code",
   "execution_count": null,
   "metadata": {
    "collapsed": true
   },
   "outputs": [],
   "source": [
    "from scipy.interpolate import interp1d"
   ]
  },
  {
   "cell_type": "code",
   "execution_count": null,
   "metadata": {
    "collapsed": false
   },
   "outputs": [],
   "source": [
    "run = runs[0]\n",
    "all_ABAs = [(ABA, seq) for seq, ABA in ABAs[run].items()]\n",
    "all_ABAs.sort(reverse=True)\n",
    "\n",
    "fig, ax = plt.subplots(figsize=(8, 7))\n",
    "x = np.array([i for i, (ABA, seq) in enumerate(all_ABAs) if ABA > 0])\n",
    "print 'Num points:', len(x)\n",
    "y = np.array([ABA for i, (ABA, seq) in enumerate(all_ABAs) if ABA > 0])\n",
    "yerr = np.array([ABA_error[run][seq] for i, (ABA, seq) in enumerate(all_ABAs) if ABA > 0])\n",
    "ylb = y - yerr\n",
    "yub = y + yerr\n",
    "err_color = 0.9*np.ones((3,))\n",
    "ax.fill_between(list(x), list(ylb), list(yub), facecolor=err_color, alpha=1.0, color=err_color)\n",
    "sc = ax.scatter(x, y, c='firebrick', s=30, linewidth=0)\n",
    "\n",
    "ax.set_axis_bgcolor('white')\n",
    "ax.grid(False)\n",
    "\n",
    "ax.set_xlabel('Rank', fontsize=18)\n",
    "ax.set_ylabel('Apparent Binding Affinity ($k_B T$)', fontsize=18)\n",
    "ax.set_title('All Apparent Binding Affinities by Rank', fontsize=20)\n",
    "\n",
    "#ax.set_xticks(range(0, len(x), 2000))\n",
    "#ax.set_yticks(range(0, 8, 2))\n",
    "ax.set_xlim((-len(x)*0.01, len(x)*1.01))\n",
    "#ax.set_ylim((-0.5, 7))\n",
    "for item in ax.get_xticklabels() + ax.get_yticklabels():\n",
    "    item.set_fontsize(16)\n",
    "    \n",
    "fig.savefig(os.path.join(fig_dir, 'ranked_affinities.png'), dpi=300)\n",
    "fig.savefig(os.path.join(fig_dir, 'ranked_affinities.eps'))"
   ]
  },
  {
   "cell_type": "markdown",
   "metadata": {},
   "source": [
    "# Reproducibility"
   ]
  },
  {
   "cell_type": "code",
   "execution_count": null,
   "metadata": {
    "collapsed": true
   },
   "outputs": [],
   "source": [
    "from champ.adapters_cython import simple_hamming_distance"
   ]
  },
  {
   "cell_type": "code",
   "execution_count": null,
   "metadata": {
    "collapsed": true
   },
   "outputs": [],
   "source": [
    "def first_mismatch(s1, s2):\n",
    "    for i, (c1, c2) in enumerate(zip(s1, s2)):\n",
    "        if c1 != c2:\n",
    "            return i\n",
    "    return -1"
   ]
  },
  {
   "cell_type": "code",
   "execution_count": null,
   "metadata": {
    "collapsed": true
   },
   "outputs": [],
   "source": [
    "def discrete_cmap(N, base_cmap=None):\n",
    "    \"\"\"Create an N-bin discrete colormap from the specified input map\"\"\"\n",
    "\n",
    "    # Note that if base_cmap is a string or None, you can simply do\n",
    "    #    return plt.cm.get_cmap(base_cmap, N)\n",
    "    # The following works for string, None, or a colormap instance:\n",
    "\n",
    "    base = plt.get_cmap(base_cmap)\n",
    "    color_list = base(np.linspace(0, 1, N))\n",
    "    cmap_name = base.name + str(N)\n",
    "    return base.from_list(cmap_name, color_list, N)"
   ]
  },
  {
   "cell_type": "code",
   "execution_count": null,
   "metadata": {
    "collapsed": false
   },
   "outputs": [],
   "source": [
    "print 'Max Hamming Dist:'\n",
    "for run in runs:\n",
    "    print run.date, max(simple_hamming_distance(target_by_run[run], seq) for seq in ddGs[run])"
   ]
  },
  {
   "cell_type": "code",
   "execution_count": null,
   "metadata": {
    "collapsed": false
   },
   "outputs": [],
   "source": [
    "runX = next(run for run in runs if '20160910' in run.date)\n",
    "runY = next(run for run in runs if '20160911' in run.date)\n",
    "\n",
    "thresh = 7\n",
    "\n",
    "def flipout_mm(target, seq):\n",
    "    for idx in flipout_idxs:\n",
    "        if target[idx] != seq[idx]:\n",
    "            return True\n",
    "    return False\n",
    "\n",
    "seqs = [seq for seq in ABAs[runX].keys() if seq in ABAs[runY]]\n",
    "seqs.sort(key=lambda s: ABAs[runX][s])\n",
    "seqs_and_Xidx = [(seq, i) for i, seq in enumerate(seqs)]\n",
    "seqs_and_Xidx.sort(key=lambda tup: ABAs[runY][tup[0]])\n",
    "x = [idx for seq, idx in seqs_and_Xidx]\n",
    "y = range(len(seqs))\n",
    "\n",
    "has_flipout_mm = np.array([flipout_mm(target_by_run[runY], seq) for seq, _ in seqs_and_Xidx])\n",
    "    \n",
    "fig, ax = plt.subplots(figsize=(7, 9))\n",
    "ax.scatter(x, y, c='b', s=20*has_flipout_mm, linewidth=0, label='Has Flipout Substitution')\n",
    "ax.scatter(x, y, c='firebrick', s=20*(1-has_flipout_mm), linewidth=0, label='No Flipout Substitution')\n",
    "ax.set_aspect(1)\n",
    "legend = ax.legend(loc='upper left')\n",
    "legend.get_frame().set_facecolor('white')\n",
    "\n",
    "ax.set_xlabel('ABA Rank, {r.date}, Chip {r.project_name}'.format(r=runX), fontsize=18)\n",
    "ax.set_ylabel('ABA Rank, {r.date}, Chip {r.project_name}'.format(r=runY), fontsize=18)\n",
    "ax.set_title('Comparison of ABA between Runs', fontsize=20)\n",
    "\n",
    "ax.set_axis_bgcolor('white')\n",
    "ax.grid(False)\n",
    "for item in ax.get_xticklabels() + ax.get_yticklabels():\n",
    "    item.set_fontsize(16)\n",
    "    \n",
    "ax.set_xlim((0, len(seqs)+100))\n",
    "ax.set_ylim((0, len(seqs)+100))\n",
    "\n",
    "r, pval = pearsonr(x, y)\n",
    "ax.text(1500, 3300, r'$\\rho = {:.2f}$'.format(r), fontsize=18, ha='center', va='center')\n",
    "\n",
    "#fig.savefig(os.path.join(fig_dir, 'aba_0121_v_0714_rank.png'), dpi=300)\n",
    "#fig.savefig(os.path.join(fig_dir, 'aba_0121_v_0714_rank.eps'))"
   ]
  },
  {
   "cell_type": "markdown",
   "metadata": {},
   "source": [
    "# Dinucleotide Data"
   ]
  },
  {
   "cell_type": "code",
   "execution_count": null,
   "metadata": {
    "collapsed": true
   },
   "outputs": [],
   "source": [
    "import matplotlib.pyplot as plt\n",
    "import matplotlib.patches as patches"
   ]
  },
  {
   "cell_type": "code",
   "execution_count": null,
   "metadata": {
    "collapsed": false
   },
   "outputs": [],
   "source": [
    "from champ.adapters_cython import simple_hamming_distance\n",
    "from mpl_toolkits.mplot3d import Axes3D\n",
    "import matplotlib as mpl"
   ]
  },
  {
   "cell_type": "code",
   "execution_count": null,
   "metadata": {
    "collapsed": false
   },
   "outputs": [],
   "source": [
    "color_given_frac = {\n",
    "    0.0: np.array([1, 1, 1], dtype=np.float),\n",
    "    0.5: np.array([0.9, 0.4, 0.2], dtype=np.float),\n",
    "    0.8: np.array([0.9, 0, 0], dtype=np.float),\n",
    "    1.0: np.array([0.5, 0, 0], dtype=np.float)\n",
    "}\n",
    "color_frac_list = list(sorted(color_given_frac.keys()))\n",
    "color_list = [color_given_frac[frac] for frac in color_frac_list]\n",
    "\n",
    "mycmap = mpl.colors.LinearSegmentedColormap.from_list('mycmap', zip(color_frac_list, color_list))\n",
    "\n",
    "def color_by_frac(frac):\n",
    "    for f1, f2 in zip(color_frac_list, color_frac_list[1:]):\n",
    "        if f1 <= frac <= f2:\n",
    "            c1 = color_given_frac[f1]\n",
    "            c2 = color_given_frac[f2]\n",
    "            return c1 + (frac-f1)/(f2-f1) * (c2 - c1)\n",
    "    raise ValueError('Invalid frac entered: %.3g' % frac)"
   ]
  },
  {
   "cell_type": "code",
   "execution_count": null,
   "metadata": {
    "collapsed": false
   },
   "outputs": [],
   "source": [
    "def label_matrix(ax, target):\n",
    "    patch_offset = 1.0\n",
    "    total_w = 0.8 * 3\n",
    "    patch_w = total_w / 3.0\n",
    "    patch_h = 1.0\n",
    "    \n",
    "    x_text_offset = patch_offset + patch_h + 1.5\n",
    "    y_text_offset = x_text_offset + 0.5\n",
    "    fontsize = 12\n",
    "    \n",
    "    for i, ref_base in enumerate(target):\n",
    "        base_pos = 3*i + 1.3\n",
    "        ax.text(-y_text_offset, base_pos, ref_base, \n",
    "                color=color_given_base[ref_base],\n",
    "                ha='center', va='center', fontweight='bold')\n",
    "        ax.text(base_pos, -x_text_offset, ref_base, \n",
    "                color=color_given_base[ref_base],\n",
    "                ha='center', va='center', fontweight='bold')\n",
    "        \n",
    "        offsets = [-total_w/2.0, -patch_w/2.0, patch_w/2.0]\n",
    "        for new_base, offset in zip(bases.replace(ref_base, ''), offsets):\n",
    "            pos = base_pos + offset\n",
    "            ax.add_patch(\n",
    "                patches.Rectangle((pos, -patch_offset), patch_w, -patch_h,\n",
    "                                  fill=True, facecolor=color_given_base[new_base], \n",
    "                                  linewidth=0, clip_on=False)\n",
    "            )\n",
    "            ax.add_patch(\n",
    "                patches.Rectangle((-patch_offset, pos), -patch_h, patch_w,\n",
    "                                  fill=True, facecolor=color_given_base[new_base], \n",
    "                                  linewidth=0, clip_on=False)\n",
    "            )"
   ]
  },
  {
   "cell_type": "code",
   "execution_count": null,
   "metadata": {
    "collapsed": false
   },
   "outputs": [],
   "source": [
    "def lower_label_matrix(ax, target, maxy):\n",
    "    maxy -= 1\n",
    "    \n",
    "    patch_offset = 1.0\n",
    "    total_w = 0.8 * 3\n",
    "    patch_w = total_w / 3.0\n",
    "    patch_h = 1.0\n",
    "    \n",
    "    x_text_offset = patch_offset + patch_h + 1.5\n",
    "    y_text_offset = x_text_offset + 0.5\n",
    "    fontsize = 12\n",
    "    \n",
    "    for i, ref_base in enumerate(target):\n",
    "        base_pos = 3*i + 1.3\n",
    "        ax.text(-y_text_offset, base_pos, ref_base, \n",
    "                color=color_given_base[ref_base],\n",
    "                ha='center', va='center', fontweight='bold')\n",
    "        ax.text(base_pos, maxy + x_text_offset, ref_base, \n",
    "                color=color_given_base[ref_base],\n",
    "                ha='center', va='center', fontweight='bold')\n",
    "        \n",
    "        offsets = [-total_w/2.0, -patch_w/2.0, patch_w/2.0]\n",
    "        for new_base, offset in zip(bases.replace(ref_base, ''), offsets):\n",
    "            pos = base_pos + offset\n",
    "            ax.add_patch(\n",
    "                patches.Rectangle((pos, maxy + patch_offset), patch_w, patch_h,\n",
    "                                  fill=True, facecolor=color_given_base[new_base], \n",
    "                                  linewidth=0, clip_on=False)\n",
    "            )\n",
    "            ax.add_patch(\n",
    "                patches.Rectangle((-patch_offset, pos), -patch_h, patch_w,\n",
    "                                  fill=True, facecolor=color_given_base[new_base], \n",
    "                                  linewidth=0, clip_on=False)\n",
    "            )"
   ]
  },
  {
   "cell_type": "code",
   "execution_count": null,
   "metadata": {
    "collapsed": false
   },
   "outputs": [],
   "source": [
    "fig, ax = plt.subplots(figsize=(11, 9))\n",
    "\n",
    "loc_targets = {run: targets[run.target_name] for run in runs}\n",
    "loc_runs = [runs[0]]\n",
    "slen = target_len * 3\n",
    "D = {run: np.zeros((slen, slen)) for run in loc_runs}\n",
    "print(loc_runs)\n",
    "for run_idx, run in enumerate(loc_runs):\n",
    "    target = loc_targets[run]\n",
    "    D[run][:, :] = None\n",
    "    for i in range(len(target)):\n",
    "        for j in range(i):\n",
    "            for k, b1 in enumerate(bases.replace(target[j], '')):\n",
    "                for l, b2 in enumerate(bases.replace(target[i], '')):\n",
    "                    seq = target[:j] + b1 + target[j+1:i] + b2 + target[i+1:]\n",
    "                    if run_idx == 0:\n",
    "                        r, c = i*3+l, j*3+k\n",
    "                    else:\n",
    "                        r, c = j*3+k, i*3+l\n",
    "                    if seq in ABAs[run]:\n",
    "                        if ABAs[run][seq] > 0:\n",
    "                            D[run][r, c] = ABAs[run][seq]\n",
    "                        else:\n",
    "                            D[run][r, c] = 0\n",
    "    for i in range(len(target)):\n",
    "        for l, b1 in enumerate(bases.replace(target[j], '')):\n",
    "            seq = target[:i] + b1 + target[i+1:]\n",
    "            r = i*3 + l\n",
    "            if seq in ABAs[run]:\n",
    "                if ABAs[run][seq] > 0:\n",
    "                    D[run][r, r] = ABAs[run][seq]\n",
    "                else:\n",
    "                    D[run][r, r] = 0\n",
    "\n",
    "Both = np.zeros((slen, slen))\n",
    "Both[:, :] = None\n",
    "for i in range(slen):\n",
    "    for j in range(i - i%3):\n",
    "        Both[i, j] = D[loc_runs[0]][i, j]\n",
    "        Both[j, i] = 0\n",
    "    Both[i, i] = D[loc_runs[0]][i, i]\n",
    "ms = ax.matshow(Both, cmap=mycmap) #plt.get_cmap('Reds'))\n",
    "\n",
    "xlim = ax.get_xlim()\n",
    "ylim = ax.get_ylim()\n",
    "for i in np.arange(2.5, slen, 3):\n",
    "    ax.plot(xlim, [i, i], 'w', alpha=1, linewidth=1)\n",
    "    ax.plot([i, i], ylim, 'w', alpha=1, linewidth=1)\n",
    "ax.grid(False)\n",
    "\n",
    "lower_label_matrix(ax, target, Both.shape[0])\n",
    "\n",
    "ax.set_xlim(xlim)\n",
    "ax.set_ylim(ylim)\n",
    "ax.set_xticks([])\n",
    "ax.set_yticks([])\n",
    "\n",
    "ax.set_axis_bgcolor(0.87*np.array([1, 1, 1]))\n",
    "\n",
    "fs = 18\n",
    "ax.set_title(r'AsCpf1 2016-10-17 Dinucleotide ABA', fontsize=fs)\n",
    "\n",
    "cbar = plt.colorbar(ms)\n",
    "cbar.set_label(r'ABA ($k_B T$)', fontsize=fs)\n",
    "\n",
    "fig.savefig(os.path.join(fig_dir, 'aba_matrix_avg.png'), dpi=300)\n",
    "fig.savefig(os.path.join(fig_dir, 'aba_matrix_avg.eps'))"
   ]
  },
  {
   "cell_type": "code",
   "execution_count": null,
   "metadata": {
    "collapsed": false
   },
   "outputs": [],
   "source": [
    "fig, ax = plt.subplots(figsize=(11, 9))\n",
    "\n",
    "loc_runs = [runs[0]]\n",
    "print(targets)\n",
    "loc_targets = {run: targets[run.target_name] for run in loc_runs}\n",
    "\n",
    "slen = target_len * 3\n",
    "D = {run: np.zeros((slen, slen)) for run in loc_runs}\n",
    "for run_idx, run in enumerate(loc_runs):\n",
    "    target = loc_targets[run]\n",
    "    D[run][:, :] = None\n",
    "    for i in range(len(target)):\n",
    "        for j in range(i):\n",
    "            for k, b1 in enumerate(bases.replace(target[j], '')):\n",
    "                for l, b2 in enumerate(bases.replace(target[i], '')):\n",
    "                    seq = target[:j] + b1 + target[j+1:i] + b2 + target[i+1:]\n",
    "                    sin_mm_seq1 = target[:j] + b1 + target[j+1:]\n",
    "                    sin_mm_seq2 = target[:i] + b2 + target[i+1:]\n",
    "                    if run_idx == 0:\n",
    "                        r, c = i*3+l, j*3+k\n",
    "                    else:\n",
    "                        r, c = j*3+k, i*3+l\n",
    "                    if seq in ABAs[run] and sin_mm_seq1 in ABAs[run] and sin_mm_seq2 in ABAs[run]:\n",
    "                        D[run][r, c] = (ddGs[run][seq] - ddGs[run][sin_mm_seq1] - ddGs[run][sin_mm_seq2])\n",
    "\n",
    "Both = np.zeros((slen, slen))\n",
    "Both[:, :] = None\n",
    "for i in range(slen):\n",
    "    for j in range(i - i%3):\n",
    "        Both[i, j] = D[loc_runs[0]][i, j]\n",
    "        Both[j, i] = 0\n",
    "    for j in range(i - i%3, (i+3) - i%3):\n",
    "        Both[i, j] = 0\n",
    "        Both[j, i] = 0\n",
    "\n",
    "extreme = max(\n",
    "    abs(min(v for v in Both.flatten() if not np.isnan(v))),\n",
    "    abs(min(v for v in Both.flatten() if not np.isnan(v)))\n",
    ")\n",
    "\n",
    "ms = ax.matshow(Both, cmap=plt.get_cmap('seismic'), vmin=-extreme, vmax=extreme)\n",
    "\n",
    "xlim = ax.get_xlim()\n",
    "ylim = ax.get_ylim()\n",
    "for i in np.arange(2.5, slen, 3):\n",
    "    ax.plot(xlim, [i, i], 'w', alpha=1, linewidth=1)\n",
    "    ax.plot([i, i], ylim, 'w', alpha=1, linewidth=1)\n",
    "ax.grid(False)\n",
    "\n",
    "lower_label_matrix(ax, target, Both.shape[0])\n",
    "\n",
    "ax.set_xlim(xlim)\n",
    "ax.set_ylim(ylim)\n",
    "ax.set_xticks([])\n",
    "ax.set_yticks([])\n",
    "\n",
    "fs = 18\n",
    "ax.set_title(r'AsCpf1 2016-10-17 Dinucleotide $\\Delta \\Delta G$ \"Epistasis\"', fontsize=fs)\n",
    "\n",
    "cbar = plt.colorbar(ms)\n",
    "cbar.set_label(r'$\\Delta \\Delta G_{1, 2} - (\\Delta \\Delta G_1 + \\Delta \\Delta G_2) \\ \\left(k_B T\\right)$', fontsize=fs)\n",
    "\n",
    "fig.savefig(os.path.join(fig_dir, 'epistasis_matrix_avg.png'), dpi=300)\n",
    "fig.savefig(os.path.join(fig_dir, 'epistasis_matrix_avg.eps'))"
   ]
  },
  {
   "cell_type": "code",
   "execution_count": null,
   "metadata": {
    "collapsed": false
   },
   "outputs": [],
   "source": [
    "fig, ax = plt.subplots(figsize=(11, 9))\n",
    "\n",
    "loc_runs = runs[:2]\n",
    "loc_targets = {run: targets[run.target_name] for run in loc_runs}\n",
    "\n",
    "slen = target_len * 3\n",
    "D = {run: np.zeros((slen, slen)) for run in loc_runs}\n",
    "for run_idx, run in enumerate(loc_runs):\n",
    "    target = loc_targets[run]\n",
    "    D[run][:, :] = None\n",
    "    for i in range(len(target)):\n",
    "        for j in range(i):\n",
    "            for k, b1 in enumerate(bases.replace(target[j], '')):\n",
    "                for l, b2 in enumerate(bases.replace(target[i], '')):\n",
    "                    seq = target[:j] + b1 + target[j+1:i] + b2 + target[i+1:]\n",
    "                    if run_idx == 0:\n",
    "                        r, c = i*3+l, j*3+k\n",
    "                    else:\n",
    "                        r, c = j*3+k, i*3+l\n",
    "                    if seq in ABAs[run]:\n",
    "                        if ABAs[run][seq] > 0:\n",
    "                            D[run][r, c] = ABAs[run][seq]\n",
    "                        else:\n",
    "                            D[run][r, c] = 0\n",
    "\n",
    "Both = np.zeros((slen, slen))\n",
    "Both[:, :] = None\n",
    "for i in range(slen):\n",
    "    for j in range(i - i%3):\n",
    "        Both[i, j] = D[loc_runs[0]][i, j]\n",
    "        Both[j, i] = D[loc_runs[1]][j, i]\n",
    "ms = ax.matshow(Both, cmap=plt.get_cmap('Reds'))\n",
    "\n",
    "xlim = ax.get_xlim()\n",
    "ylim = ax.get_ylim()\n",
    "for i in np.arange(2.5, slen, 3):\n",
    "    ax.plot(xlim, [i, i], 'w', alpha=1, linewidth=1)\n",
    "    ax.plot([i, i], ylim, 'w', alpha=1, linewidth=1)\n",
    "ax.grid(False)\n",
    "\n",
    "label_matrix(ax, target)\n",
    "\n",
    "ax.set_xlim(xlim)\n",
    "ax.set_ylim(ylim)\n",
    "ax.set_xticks([])\n",
    "ax.set_yticks([])\n",
    "\n",
    "ax.set_axis_bgcolor(0.87*np.array([1, 1, 1]))\n",
    "\n",
    "fs = 18\n",
    "ax.set_title(r'Dinucleotide ABA' + '\\nLower: {}, Upper {}'.format(loc_runs[0].date, loc_runs[1].date), fontsize=fs)\n",
    "\n",
    "cbar = plt.colorbar(ms)\n",
    "cbar.set_label(r'ABA ($k_B T$)', fontsize=fs)\n",
    "\n",
    "fig.savefig(os.path.join(fig_dir, 'aba_matrix.png'), dpi=300)\n",
    "fig.savefig(os.path.join(fig_dir, 'aba_matrix.eps'))"
   ]
  },
  {
   "cell_type": "code",
   "execution_count": null,
   "metadata": {
    "collapsed": false
   },
   "outputs": [],
   "source": [
    "fig, ax = plt.subplots(figsize=(11, 9))\n",
    "\n",
    "loc_runs = runs[::2]\n",
    "loc_targets = {run: targets[run.target_name] for run in loc_runs}\n",
    "\n",
    "slen = target_len * 3\n",
    "D = {run: np.zeros((slen, slen)) for run in loc_runs}\n",
    "for run_idx, run in enumerate(loc_runs):\n",
    "    target = loc_targets[run]\n",
    "    D[run][:, :] = None\n",
    "    for i in range(len(target)):\n",
    "        for j in range(i):\n",
    "            for k, b1 in enumerate(bases.replace(target[j], '')):\n",
    "                for l, b2 in enumerate(bases.replace(target[i], '')):\n",
    "                    seq = target[:j] + b1 + target[j+1:i] + b2 + target[i+1:]\n",
    "                    if run_idx == 0:\n",
    "                        r, c = i*3+l, j*3+k\n",
    "                    else:\n",
    "                        r, c = j*3+k, i*3+l\n",
    "                    if seq in ABAs[run]:\n",
    "                        if ABAs[run][seq] > 0:\n",
    "                            D[run][r, c] = ABAs[run][seq]\n",
    "                        else:\n",
    "                            D[run][r, c] = 0\n",
    "\n",
    "Both = np.zeros((slen, slen))\n",
    "Both[:, :] = None\n",
    "for i in range(slen):\n",
    "    for j in range(i - i%3):\n",
    "        Both[i, j] = D[loc_runs[0]][i, j]\n",
    "        Both[j, i] = D[loc_runs[1]][j, i]\n",
    "ms = ax.matshow(Both, cmap=plt.get_cmap('Reds'))\n",
    "\n",
    "xlim = ax.get_xlim()\n",
    "ylim = ax.get_ylim()\n",
    "for i in np.arange(2.5, slen, 3):\n",
    "    ax.plot(xlim, [i, i], 'w', alpha=1, linewidth=1)\n",
    "    ax.plot([i, i], ylim, 'w', alpha=1, linewidth=1)\n",
    "ax.grid(False)\n",
    "\n",
    "label_matrix(ax, target)\n",
    "\n",
    "ax.set_xlim(xlim)\n",
    "ax.set_ylim(ylim)\n",
    "ax.set_xticks([])\n",
    "ax.set_yticks([])\n",
    "\n",
    "ax.set_axis_bgcolor(0.87*np.array([1, 1, 1]))\n",
    "\n",
    "fs = 18\n",
    "ax.set_title(r'Dinucleotide ABA' + '\\nLower: {}, Upper {}'.format(loc_runs[0].date, loc_runs[1].date), fontsize=fs)\n",
    "\n",
    "cbar = plt.colorbar(ms)\n",
    "cbar.set_label(r'ABA ($k_B T$)', fontsize=fs)\n",
    "\n",
    "fig.savefig(os.path.join(fig_dir, 'aba_matrix.png'), dpi=300)\n",
    "fig.savefig(os.path.join(fig_dir, 'aba_matrix.eps'))"
   ]
  },
  {
   "cell_type": "code",
   "execution_count": null,
   "metadata": {
    "collapsed": false
   },
   "outputs": [],
   "source": [
    "fig, ax = plt.subplots(figsize=(11, 9))\n",
    "\n",
    "loc_runs = runs[:2]\n",
    "loc_targets = {run: targets[run.target_name] for run in loc_runs}\n",
    "\n",
    "slen = target_len * 3\n",
    "D = {run: np.zeros((slen, slen)) for run in loc_runs}\n",
    "for run_idx, run in enumerate(loc_runs):\n",
    "    target = loc_targets[run]\n",
    "    D[run][:, :] = None\n",
    "    for i in range(len(target)):\n",
    "        for j in range(i):\n",
    "            for k, b1 in enumerate(bases.replace(target[j], '')):\n",
    "                for l, b2 in enumerate(bases.replace(target[i], '')):\n",
    "                    seq = target[:j] + b1 + target[j+1:i] + b2 + target[i+1:]\n",
    "                    sin_mm_seq1 = target[:j] + b1 + target[j+1:]\n",
    "                    sin_mm_seq2 = target[:i] + b2 + target[i+1:]\n",
    "                    if run_idx == 0:\n",
    "                        r, c = i*3+l, j*3+k\n",
    "                    else:\n",
    "                        r, c = j*3+k, i*3+l\n",
    "                    if seq in ABAs[run] and sin_mm_seq1 in ABAs[run] and sin_mm_seq2 in ABAs[run]:\n",
    "                        D[run][r, c] = (ddGs[run][seq] - ddGs[run][sin_mm_seq1] - ddGs[run][sin_mm_seq2])\n",
    "\n",
    "Both = np.zeros((slen, slen))\n",
    "Both[:, :] = None\n",
    "for i in range(slen):\n",
    "    for j in range(i - i%3):\n",
    "        Both[i, j] = D[loc_runs[0]][i, j]\n",
    "        Both[j, i] = D[loc_runs[1]][j, i]\n",
    "\n",
    "extreme = max(\n",
    "    abs(min(v for v in Both.flatten() if not np.isnan(v))),\n",
    "    abs(min(v for v in Both.flatten() if not np.isnan(v)))\n",
    ")\n",
    "\n",
    "ms = ax.matshow(Both, cmap=plt.get_cmap('seismic'), vmin=-extreme, vmax=extreme)\n",
    "\n",
    "xlim = ax.get_xlim()\n",
    "ylim = ax.get_ylim()\n",
    "for i in np.arange(2.5, slen, 3):\n",
    "    ax.plot(xlim, [i, i], 'w', alpha=1, linewidth=1)\n",
    "    ax.plot([i, i], ylim, 'w', alpha=1, linewidth=1)\n",
    "ax.grid(False)\n",
    "\n",
    "label_matrix(ax, target)\n",
    "\n",
    "ax.set_xlim(xlim)\n",
    "ax.set_ylim(ylim)\n",
    "ax.set_xticks([])\n",
    "ax.set_yticks([])\n",
    "\n",
    "fs = 18\n",
    "ax.set_title(r'Dinucleotide $\\Delta \\Delta G$ \"Epistasis\"' + '\\nLower: {}, Upper {}'.format(loc_runs[0].date, loc_runs[1].date), fontsize=fs)\n",
    "\n",
    "cbar = plt.colorbar(ms)\n",
    "cbar.set_label(r'$\\Delta \\Delta G_{1, 2} - (\\Delta \\Delta G_1 + \\Delta \\Delta G_2) \\ \\left(k_B T\\right)$', fontsize=fs)\n",
    "\n",
    "fig.savefig(os.path.join(fig_dir, 'epistasis_matrix.png'), dpi=300)\n",
    "fig.savefig(os.path.join(fig_dir, 'epistasis_matrix.eps'))"
   ]
  },
  {
   "cell_type": "code",
   "execution_count": null,
   "metadata": {
    "collapsed": false
   },
   "outputs": [],
   "source": [
    "fig, ax = plt.subplots(figsize=(11, 9))\n",
    "\n",
    "loc_runs = runs[::2]\n",
    "loc_targets = {run: targets[run.target_name] for run in loc_runs}\n",
    "\n",
    "slen = target_len * 3\n",
    "D = {run: np.zeros((slen, slen)) for run in loc_runs}\n",
    "for run_idx, run in enumerate(loc_runs):\n",
    "    target = loc_targets[run]\n",
    "    D[run][:, :] = None\n",
    "    for i in range(len(target)):\n",
    "        for j in range(i):\n",
    "            for k, b1 in enumerate(bases.replace(target[j], '')):\n",
    "                for l, b2 in enumerate(bases.replace(target[i], '')):\n",
    "                    seq = target[:j] + b1 + target[j+1:i] + b2 + target[i+1:]\n",
    "                    sin_mm_seq1 = target[:j] + b1 + target[j+1:]\n",
    "                    sin_mm_seq2 = target[:i] + b2 + target[i+1:]\n",
    "                    if run_idx == 0:\n",
    "                        r, c = i*3+l, j*3+k\n",
    "                    else:\n",
    "                        r, c = j*3+k, i*3+l\n",
    "                    if seq in ABAs[run] and sin_mm_seq1 in ABAs[run] and sin_mm_seq2 in ABAs[run]:\n",
    "                        D[run][r, c] = (ddGs[run][seq] - ddGs[run][sin_mm_seq1] - ddGs[run][sin_mm_seq2])\n",
    "\n",
    "Both = np.zeros((slen, slen))\n",
    "Both[:, :] = None\n",
    "for i in range(slen):\n",
    "    for j in range(i - i%3):\n",
    "        Both[i, j] = D[loc_runs[0]][i, j]\n",
    "        Both[j, i] = D[loc_runs[1]][j, i]\n",
    "\n",
    "extreme = max(\n",
    "    abs(min(v for v in Both.flatten() if not np.isnan(v))),\n",
    "    abs(min(v for v in Both.flatten() if not np.isnan(v)))\n",
    ")\n",
    "\n",
    "ms = ax.matshow(Both, cmap=plt.get_cmap('seismic'), vmin=-extreme, vmax=extreme)\n",
    "\n",
    "xlim = ax.get_xlim()\n",
    "ylim = ax.get_ylim()\n",
    "for i in np.arange(2.5, slen, 3):\n",
    "    ax.plot(xlim, [i, i], 'w', alpha=1, linewidth=1)\n",
    "    ax.plot([i, i], ylim, 'w', alpha=1, linewidth=1)\n",
    "ax.grid(False)\n",
    "\n",
    "label_matrix(ax, target)\n",
    "\n",
    "ax.set_xlim(xlim)\n",
    "ax.set_ylim(ylim)\n",
    "ax.set_xticks([])\n",
    "ax.set_yticks([])\n",
    "\n",
    "fs = 18\n",
    "ax.set_title(r'Dinucleotide $\\Delta \\Delta G$ \"Epistasis\"' + '\\nLower: {}, Upper {}'.format(loc_runs[0].date, loc_runs[1].date), fontsize=fs)\n",
    "\n",
    "cbar = plt.colorbar(ms)\n",
    "cbar.set_label(r'$\\Delta \\Delta G_{1, 2} - (\\Delta \\Delta G_1 + \\Delta \\Delta G_2) \\ \\left(k_B T\\right)$', fontsize=fs)\n",
    "\n",
    "fig.savefig(os.path.join(fig_dir, 'epistasis_matrix.png'), dpi=300)\n",
    "fig.savefig(os.path.join(fig_dir, 'epistasis_matrix.eps'))"
   ]
  },
  {
   "cell_type": "markdown",
   "metadata": {
    "collapsed": true
   },
   "source": [
    "# 6N PAMs"
   ]
  },
  {
   "cell_type": "markdown",
   "metadata": {},
   "source": [
    "## PAM ABAs"
   ]
  },
  {
   "cell_type": "code",
   "execution_count": null,
   "metadata": {
    "collapsed": false
   },
   "outputs": [],
   "source": [
    "run = runs[0]\n",
    "pams = map(''.join, itertools.product(bases, repeat=4))\n",
    "targ = target_by_run[run][4:]\n",
    "print(targ)\n",
    "pamseqs = [pam + targ for pam in pams]\n",
    "print(len(pamseqs))\n",
    "print(len(ABAs[run]))\n",
    "print '6N pams found:', sum(1 for pamseq in pamseqs if pamseq in ABAs[run])\n",
    "pam_ABAs, pam_ABA_error = {}, {}\n",
    "for pamseq in pamseqs:\n",
    "    pam = pamseq[:5]\n",
    "    if pamseq in ABAs[run]:\n",
    "        ABA = ABAs[run][pamseq]\n",
    "        err = ABA_error[run][pamseq]\n",
    "    else:\n",
    "        ABA, err = 0, 0\n",
    "    pam_ABAs[pam] = max(0, ABA)\n",
    "    pam_ABA_error[pam] = err"
   ]
  },
  {
   "cell_type": "markdown",
   "metadata": {},
   "source": [
    "## Violin Plots"
   ]
  },
  {
   "cell_type": "code",
   "execution_count": null,
   "metadata": {
    "collapsed": false
   },
   "outputs": [],
   "source": [
    "all_triplets = map(''.join, itertools.product(bases, repeat=3))"
   ]
  },
  {
   "cell_type": "code",
   "execution_count": null,
   "metadata": {
    "collapsed": true
   },
   "outputs": [],
   "source": [
    "def max_diff(pam_with_one_N, as_pct=True):\n",
    "    assert pam_with_one_N.count('N') == 1, pam_with_one_N\n",
    "    idx = pam_with_one_N.index('N')\n",
    "    max_diff = -1\n",
    "    for b1, b2 in itertools.combinations(bases, r=2):\n",
    "        pam1 = pam_with_one_N[:idx] + b1 + pam_with_one_N[idx+1:]\n",
    "        pam2 = pam_with_one_N[:idx] + b2 + pam_with_one_N[idx+1:]\n",
    "        if pam_ABAs[pam1] > 0 and pam_ABAs[pam2] > 0:\n",
    "            diff = abs(pam_ABAs[pam1] - pam_ABAs[pam2])\n",
    "            diff_stdev = np.sqrt(pam_ABA_error[pam1]**2 + pam_ABA_error[pam2]**2)\n",
    "            diff -= 2.57 * diff_stdev\n",
    "            if as_pct:\n",
    "                diff /= max(pam_ABAs[pam1], pam_ABAs[pam2])\n",
    "            if diff > max_diff:\n",
    "                max_diff = diff\n",
    "    if max_diff == -1:\n",
    "        return False\n",
    "    else:\n",
    "        return max(0, max_diff)"
   ]
  },
  {
   "cell_type": "code",
   "execution_count": null,
   "metadata": {
    "collapsed": true
   },
   "outputs": [],
   "source": [
    "def max_diff_seqs(pam_with_one_N):\n",
    "    assert pam_with_one_N.count('N') == 1, pam_with_one_N\n",
    "    idx = pam_with_one_N.index('N')\n",
    "    max_diff = -1\n",
    "    max_pams = []\n",
    "    for b1, b2 in itertools.combinations(bases, r=2):\n",
    "        pam1 = pam_with_one_N[:idx] + b1 + pam_with_one_N[idx+1:]\n",
    "        pam2 = pam_with_one_N[:idx] + b2 + pam_with_one_N[idx+1:]\n",
    "        if pam_ABAs[pam1] > 0 and pam_ABAs[pam2] > 0:\n",
    "            diff = abs(pam_ABAs[pam1] - pam_ABAs[pam2])\n",
    "            if diff > max_diff: #diff > 0 and diff > max_diff:\n",
    "                max_diff = diff\n",
    "                max_pams = (pam1, pam2)\n",
    "    if max_diff == -1:\n",
    "        return False\n",
    "    else:\n",
    "        return max_pams"
   ]
  },
  {
   "cell_type": "code",
   "execution_count": null,
   "metadata": {
    "collapsed": false
   },
   "outputs": [],
   "source": [
    "as_pct = True\n",
    "max_diffs = {i: [] for i in range(6)}\n",
    "all_quintuplets = map(''.join, itertools.product(bases, repeat=5))\n",
    "for i in range(6):\n",
    "    for quint in all_quintuplets:\n",
    "        pam_with_one_N = quint[:i] + 'N' + quint[i:]\n",
    "        diff = max_diff(pam_with_one_N, as_pct)\n",
    "        if diff is not False:\n",
    "            max_diffs[i].append(diff)\n",
    "        if i <= 2 and diff > 0.3:\n",
    "            pam1, pam2 = max_diff_seqs(pam_with_one_N)\n",
    "            ABA1, ABA2 = pam_ABAs[pam1], pam_ABAs[pam2]\n",
    "#            print '{}, {}: {}={}, {}={} ({})'.format(i, diff, pam1, ABA1, pam2, ABA2,\n",
    "#                                                     max(ABA1, ABA2)/min(ABA1, ABA2))\n",
    "\n",
    "fig, axes = plt.subplots(1, 2, figsize=(12, 4))\n",
    "for range_lim, ax in zip([3, 6], axes):\n",
    "    viol_d = ax.violinplot([max_diffs[i] for i in range(range_lim)], \n",
    "                           positions=range(range_lim), \n",
    "                           showextrema=False)\n",
    "    for bod in viol_d['bodies']:\n",
    "        bod.set_color('grey')\n",
    "        bod.set_alpha(1)\n",
    "        bod.set_edgecolor('k')\n",
    "    ax.grid(False)\n",
    "    ax.set_axis_bgcolor('white')\n",
    "    ax.set_xticks(range(range_lim))\n",
    "    ax.set_xticklabels(range(-6, -6 + range_lim))\n",
    "    #ax.set_yticks(range(5))\n",
    "    ax.set_xlabel('Single Substitution Position', fontsize=16)\n",
    "    ax.set_ylabel('Max Pct ABA Reduction\\n95% Confidence Lower Bound', fontsize=16)\n",
    "    \n",
    "    ylim = ax.get_ylim()\n",
    "    ub = ylim[1] * 1.2\n",
    "    for i in range(range_lim):\n",
    "        ax.text(i, ylim[1] * 1.1, str(len(max_diffs[i])), ha='center', va='center', fontsize=12)\n",
    "    ax.set_ylim((ylim[0], ub))\n",
    "fig.savefig(os.path.join(fig_dir, 'pam_6N_violins_pct.eps'))\n",
    "fig.savefig(os.path.join(fig_dir, 'pam_6N_violins_pct.png'), dpi=300)"
   ]
  },
  {
   "cell_type": "code",
   "execution_count": null,
   "metadata": {
    "collapsed": false
   },
   "outputs": [],
   "source": [
    "as_pct = False\n",
    "max_diffs = {i: [] for i in range(6)}\n",
    "all_quintuplets = map(''.join, itertools.product(bases, repeat=5))\n",
    "for i in range(6):\n",
    "    for quint in all_quintuplets:\n",
    "        pam_with_one_N = quint[:i] + 'N' + quint[i:]\n",
    "        diff = max_diff(pam_with_one_N, as_pct)\n",
    "        if diff is not False:\n",
    "            max_diffs[i].append(diff)\n",
    "        if i <= 2 and diff > 0.3:\n",
    "            pam1, pam2 = max_diff_seqs(pam_with_one_N)\n",
    "            ABA1, ABA2 = pam_ABAs[pam1], pam_ABAs[pam2]\n",
    "#            print '{}, {}: {}={}, {}={} ({})'.format(i, diff, pam1, ABA1, pam2, ABA2,\n",
    "#                                                     max(ABA1, ABA2)/min(ABA1, ABA2))\n",
    "\n",
    "fig, axes = plt.subplots(1, 2, figsize=(12, 4))\n",
    "for range_lim, ax in zip([3, 6], axes):\n",
    "    viol_d = ax.violinplot([max_diffs[i] for i in range(range_lim)], \n",
    "                           positions=range(range_lim), \n",
    "                           showextrema=False)\n",
    "    for bod in viol_d['bodies']:\n",
    "        bod.set_color('grey')\n",
    "        bod.set_alpha(1)\n",
    "        bod.set_edgecolor('k')\n",
    "    ax.grid(False)\n",
    "    ax.set_axis_bgcolor('white')\n",
    "    ax.set_xticks(range(range_lim))\n",
    "    ax.set_xticklabels(range(-6, -6 + range_lim))\n",
    "    #ax.set_yticks(range(5))\n",
    "    ax.set_xlabel('Single Substitution Position', fontsize=16)\n",
    "    ax.set_ylabel('Max $\\Delta$ABA ($k_b T$)\\n95% Confidence Lower Bound', fontsize=16)\n",
    "    \n",
    "    ylim = ax.get_ylim()\n",
    "    ub = ylim[1] * 1.2\n",
    "    for i in range(range_lim):\n",
    "        ax.text(i, ylim[1] * 1.1, str(len(max_diffs[i])), ha='center', va='center', fontsize=12)\n",
    "    ax.set_ylim((ylim[0], ub))\n",
    "fig.savefig(os.path.join(fig_dir, 'pam_6N_violins.eps'))\n",
    "fig.savefig(os.path.join(fig_dir, 'pam_6N_violins.png'), dpi=300)"
   ]
  },
  {
   "cell_type": "code",
   "execution_count": null,
   "metadata": {
    "collapsed": false
   },
   "outputs": [],
   "source": [
    "print 'PAMs considered:', len(pams)\n",
    "print 'PAMs with ABA > 0:', sum(1 for pam in pams if pam_ABAs[pam] > 0)"
   ]
  },
  {
   "cell_type": "markdown",
   "metadata": {},
   "source": [
    "## PAM Wheel Data"
   ]
  },
  {
   "cell_type": "code",
   "execution_count": null,
   "metadata": {
    "collapsed": true
   },
   "outputs": [],
   "source": [
    "pams.sort(key=lambda x: x[::-1])  # sort from last base to first base"
   ]
  },
  {
   "cell_type": "code",
   "execution_count": null,
   "metadata": {
    "collapsed": false
   },
   "outputs": [],
   "source": [
    "out_fpath = os.path.join(results_dir, 'pam_wheel_ABA_data.txt')\n",
    "with open(out_fpath, 'w') as out:\n",
    "    for pam in pams:\n",
    "        out.write('\\t'.join([str(pam_ABAs[pam])] + list(pam)) + '\\n')"
   ]
  },
  {
   "cell_type": "markdown",
   "metadata": {},
   "source": [
    "## PAM Landscape"
   ]
  },
  {
   "cell_type": "code",
   "execution_count": null,
   "metadata": {
    "collapsed": true
   },
   "outputs": [],
   "source": [
    "def sorted_pams_at_ham_dist_by_base_pam_and_Kd(i):\n",
    "    all_triplets = map(''.join, itertools.product(bases, repeat=3))\n",
    "    ham_trips = [trip for trip in all_triplets\n",
    "                 if simple_hamming_distance(trip, local_config.targets['A'][:3]) == i]\n",
    "    ham_pams = []\n",
    "    for base_pam in ham_trips:\n",
    "        base_pam_pams = [trip + base_pam for trip in all_triplets]\n",
    "        base_pam_pams.sort(key=lambda p: -pam_ABAs[p])\n",
    "        ham_pams.append(base_pam_pams)\n",
    "    return ham_pams"
   ]
  },
  {
   "cell_type": "code",
   "execution_count": null,
   "metadata": {
    "collapsed": false
   },
   "outputs": [],
   "source": [
    "mx_height = max(pam_ABAs[pam] for pam in pams)\n",
    "\n",
    "w = 0.9\n",
    "text_off = 0.15\n",
    "alpha=0.7\n",
    "fig, ax = plt.subplots(figsize=(14, 10))\n",
    "base_rs = [0.25, 1.5, 2.5]\n",
    "for i in range(3):\n",
    "    ham_pam_groups = sorted_pams_at_ham_dist_by_base_pam_and_Kd(i)\n",
    "    assert len(ham_pam_groups) >= 1, i\n",
    "    if i == 0:\n",
    "        start_angle = 60 # degrees\n",
    "        sa_rad = np.pi/180.0 * start_angle\n",
    "        base_thetas = np.linspace(np.pi - sa_rad, sa_rad, len(ham_pam_groups) + 1)\n",
    "    else:\n",
    "        base_thetas = np.linspace(np.pi, -np.pi, len(ham_pam_groups) + 1)\n",
    "    circ_xs = []\n",
    "    circ_ys = []\n",
    "    for j, ham_pams in enumerate(ham_pam_groups):\n",
    "        th0, th1 = base_thetas[j:j+2]\n",
    "        thetas = (th1 - th0) / float(len(ham_pams)) * np.arange(len(ham_pams)) + th0\n",
    "        heights = [pam_ABAs[pam] for pam in ham_pams]\n",
    "        r = base_rs[i]\n",
    "        \n",
    "        for theta, height, pam in zip(thetas, heights, ham_pams):\n",
    "            # Data values\n",
    "            scaled_height = w*(height/mx_height)\n",
    "            scaled_error = w*(pam_ABA_error[pam]/mx_height)\n",
    "            rs = np.array([r, r + scaled_height])\n",
    "            x = np.cos(theta) * rs\n",
    "            y = np.sin(theta) * rs\n",
    "            #color = c1 + height/mx_height * (c2 - c1)\n",
    "            ax.plot(x, y, color=color_by_frac(height/mx_height), linewidth=2)\n",
    "            circ_xs.append(x[0])\n",
    "            circ_ys.append(y[0])\n",
    "            \n",
    "            if scaled_height > 0:\n",
    "                # Errors\n",
    "                rs = np.array([r + scaled_height, r + scaled_height + scaled_error])\n",
    "                x = np.cos(theta) * rs\n",
    "                y = np.sin(theta) * rs\n",
    "                ax.plot(x, y, color=0.75*np.array([1, 1, 1]), zorder=-1)\n",
    "         \n",
    "        pam_fs = 16\n",
    "        if i == 0:\n",
    "            # Add AAG label \n",
    "            ax.text(0, 0, 'AAG', ha='center', va='center', alpha=alpha, fontsize=pam_fs)\n",
    "        else:\n",
    "            # Add pam label\n",
    "            base_pams = set(pam[3:] for pam in ham_pams)\n",
    "            assert len(base_pams) == 1, base_pams\n",
    "            base_pam = list(base_pams)[0]\n",
    "            th_mid = (th0 + th1) / 2.0\n",
    "            rr = r - text_off\n",
    "            x = np.cos(th_mid) * rr\n",
    "            y = np.sin(th_mid) * rr\n",
    "            ax.text(x, y, base_pam, rotation=(180/np.pi*th_mid - 90), \n",
    "                    ha='center', va='center', alpha=alpha, fontsize=pam_fs)\n",
    "\n",
    "            # Add boundary ticks\n",
    "            for theta in [th0, th1]:\n",
    "                rs = np.array([r - text_off, r])\n",
    "                x = np.cos(theta) * rs\n",
    "                y = np.sin(theta) * rs\n",
    "                ax.plot(x, y, 'k', linewidth=0.3, alpha=alpha)\n",
    "            \n",
    "        # Add Zero Circle\n",
    "        ax.plot(circ_xs, circ_ys, 'k', linewidth=0.3, alpha=alpha)\n",
    "              \n",
    "mx = base_rs[-1] + w/2.0\n",
    "lim = (-mx, mx)\n",
    "ax.set_xlim(lim)\n",
    "ax.set_ylim(lim)\n",
    "ax.set_aspect(1)\n",
    "ax.set_xticks([])\n",
    "ax.set_yticks([])\n",
    "ax.set_axis_bgcolor('white')\n",
    "\n",
    "# Color bar\n",
    "#ax1 = fig.add_axes([0.95, 0.05, 0.05, 0.9])\n",
    "cax, kw = mpl.colorbar.make_axes(ax)\n",
    "norm = mpl.colors.Normalize(vmin=0, vmax=mx_height)\n",
    "cb1 = mpl.colorbar.ColorbarBase(cax, cmap=mycmap,\n",
    "                                norm=norm,\n",
    "                                orientation='vertical')\n",
    "cb1.set_label('ABA ($k_B T$)', fontsize=18)\n",
    "\n",
    "\n",
    "ax.set_xlabel('Concentric Rings by Hamming Distance from AAG', fontsize=18)\n",
    "ax.set_title('Energy Landscape of 6-Nucleotide PAMs', fontsize=20)\n",
    "fig.savefig(os.path.join(fig_dir, 'energy_landscape_sawblade_maxham2.png'), dpi=300)\n",
    "fig.savefig(os.path.join(fig_dir, 'energy_landscape_sawblade_maxham2.eps'))"
   ]
  },
  {
   "cell_type": "markdown",
   "metadata": {},
   "source": [
    "Correlation with Huo et al Interference Efficiency\n",
    "==="
   ]
  },
  {
   "cell_type": "code",
   "execution_count": null,
   "metadata": {
    "collapsed": true
   },
   "outputs": [],
   "source": [
    "import matplotlib as mpl\n",
    "from scipy.stats import pearsonr\n",
    "from scipy.optimize import curve_fit"
   ]
  },
  {
   "cell_type": "code",
   "execution_count": null,
   "metadata": {
    "collapsed": false
   },
   "outputs": [],
   "source": [
    "Image(filename=os.path.join(local_config.fig_dir, 'outside', 'huo_pam_efficiency.png'))"
   ]
  },
  {
   "cell_type": "code",
   "execution_count": null,
   "metadata": {
    "collapsed": true
   },
   "outputs": [],
   "source": [
    "huo_dir = os.path.join(local_config.data_dir, 'huo')\n",
    "huo_pam_fpath = os.path.join(huo_dir, 'huo_pams.txt')\n",
    "huo_csv_fpath = os.path.join(huo_dir, 'huo_data.csv')\n",
    "\n",
    "huo_pams = ['AAA' + line.strip() for line in open(huo_pam_fpath)]\n",
    "huo_efficiencies = []\n",
    "huo_sds = []\n",
    "with open(huo_csv_fpath) as f:\n",
    "    while True:\n",
    "        try:\n",
    "            line = next(f)\n",
    "        except StopIteration:\n",
    "            break\n",
    "        eff = float(line.strip().split(',')[1])\n",
    "        line = next(f)\n",
    "        sd = float(line.strip().split(',')[1]) - eff\n",
    "        huo_efficiencies.append(eff)\n",
    "        huo_sds.append(sd)\n",
    "assert len(huo_pams) == len(huo_efficiencies) == len(huo_sds)"
   ]
  },
  {
   "cell_type": "code",
   "execution_count": null,
   "metadata": {
    "collapsed": true
   },
   "outputs": [],
   "source": [
    "reduced_huo_efficiencies, reduced_huo_sds = [], []\n",
    "our_huo_ABAs, our_huo_ABA_errors = [], []\n",
    "reduced_pams = []\n",
    "for pam, eff, sd in zip(huo_pams, huo_efficiencies, huo_sds):\n",
    "    if pam_ABAs[pam] > 0:\n",
    "        reduced_huo_efficiencies.append(eff)\n",
    "        reduced_huo_sds.append(sd)\n",
    "        our_huo_ABAs.append(pam_ABAs[pam])\n",
    "        our_huo_ABA_errors.append(pam_ABA_error[pam])\n",
    "        reduced_pams.append(pam)"
   ]
  },
  {
   "cell_type": "code",
   "execution_count": null,
   "metadata": {
    "collapsed": true
   },
   "outputs": [],
   "source": [
    "def log_log_line(x, m, b):\n",
    "    return 10**(m * np.log10(x) + b)\n",
    "\n",
    "def log_line(x, m, b):\n",
    "    return (m * np.log10(x) + b)\n",
    "\n",
    "def exp10_line(x, m, b):\n",
    "    return 10**(m*x + b)\n",
    "\n",
    "def line(x, m, b):\n",
    "    return m * x + b"
   ]
  },
  {
   "cell_type": "code",
   "execution_count": null,
   "metadata": {
    "collapsed": true
   },
   "outputs": [],
   "source": [
    "fit_sigmas = [np.log(eff + sd) - np.log(sd) for eff, sd in zip(reduced_huo_efficiencies, reduced_huo_sds)]"
   ]
  },
  {
   "cell_type": "code",
   "execution_count": null,
   "metadata": {
    "collapsed": false
   },
   "outputs": [],
   "source": [
    "popt, pcov = curve_fit(line, our_huo_ABAs, np.log10(reduced_huo_efficiencies), sigma=fit_sigmas)\n",
    "r, pval = pearsonr(np.log10(reduced_huo_efficiencies), our_huo_ABAs)\n",
    "\n",
    "xx = np.linspace(0, 6, 10)\n",
    "yy = exp10_line(xx, *popt)\n",
    "\n",
    "fig, ax = plt.subplots(figsize=(8, 7))\n",
    "ax.plot(xx, yy, '--', label='Fit', linewidth=2, zorder=-1)\n",
    "ax.errorbar(our_huo_ABAs, reduced_huo_efficiencies, yerr=reduced_huo_sds, xerr=our_huo_ABA_errors, \n",
    "            linestyle='.', linewidth=2, markersize=7, color='b')\n",
    "ax.scatter(our_huo_ABAs, reduced_huo_efficiencies, s=46, color='b')\n",
    "ax.text(1.3, 400, '$\\log_{10}\\, y = %.2f\\, x + %.2f$\\n$r = %.2f$' % (popt[0], popt[1], r), \n",
    "        fontsize=20, ha='center', va='center')\n",
    "ax.set_yscale('log')\n",
    "ax.set_ylim((0.5, 3000))\n",
    "#ax.set_xlim((-0.8, 6.8))\n",
    "\n",
    "fs = 20\n",
    "ax.set_ylabel('Interference Efficiency', fontsize=fs, fontweight='bold')\n",
    "ax.set_xlabel(r'ABA ($k_B T$)', fontsize=fs, fontweight='bold')\n",
    "\n",
    "ax.tick_params(width=1, length=7)\n",
    "ax.tick_params(width=1, length=3, which='minor')\n",
    "\n",
    "ax.grid(False)\n",
    "ax.set_axis_bgcolor('white')\n",
    "\n",
    "for item in ax.get_xticklabels() + ax.get_yticklabels():\n",
    "    item.set_fontsize(18)\n",
    "    \n",
    "fig.savefig(os.path.join(fig_dir, 'aba_vs_huo.eps'))\n",
    "fig.savefig(os.path.join(fig_dir, 'aba_vs_huo.png'), dpi=300)"
   ]
  },
  {
   "cell_type": "code",
   "execution_count": null,
   "metadata": {
    "collapsed": false
   },
   "outputs": [],
   "source": [
    "print '\\t'.join(['PAM', 'ABA', 'Interference Efficiency'])\n",
    "for ABA, eff, pam in sorted(zip(our_huo_ABAs, reduced_huo_efficiencies, reduced_pams)):\n",
    "    print pam, ABA, eff"
   ]
  },
  {
   "cell_type": "markdown",
   "metadata": {
    "collapsed": true
   },
   "source": [
    "# Write Values"
   ]
  },
  {
   "cell_type": "code",
   "execution_count": null,
   "metadata": {
    "collapsed": false
   },
   "outputs": [],
   "source": [
    "other_run = runs[0]\n",
    "other_seqs = set(ABAs[other_run].keys())\n",
    "ref_seqs = set(ABAs[ref_run].keys())\n",
    "other_seqs_to_use = other_seqs - ref_seqs\n",
    "print 'Ref seqs:', len(ref_seqs)\n",
    "print 'Other seqs:', len(other_seqs)\n",
    "print 'Intersection:', len(ref_seqs & other_seqs)\n",
    "print 'Other seqs to use:', len(other_seqs_to_use)"
   ]
  },
  {
   "cell_type": "code",
   "execution_count": null,
   "metadata": {
    "collapsed": false
   },
   "outputs": [],
   "source": [
    "out_fname = 'Kds_and_ABAs_{}.txt'.format(dname)\n",
    "out_fpath = os.path.join(results_dir, out_fname)\n",
    "with open(out_fpath, 'w') as out:\n",
    "    out.write('# Target: {}\\n'.format(target_by_run[ref_run]))\n",
    "    out.write('# Neg Control: {}\\n'.format(neg_control_target_by_run[ref_run]))\n",
    "    out.write('\\t'.join(['# Seq', 'Kd (pM)', 'Kd error', 'ABA (kB T)', 'ABA error']) + '\\n')\n",
    "    out.write(\n",
    "        '\\n'.join(\n",
    "            '\\t'.join(map(str, [seq, \n",
    "                                Kds[ref_run][seq], \n",
    "                                Kd_error[ref_run][seq],\n",
    "                                ABAs[ref_run][seq],\n",
    "                                ABA_error[ref_run][seq]]))\n",
    "            for seq in ABAs[ref_run].keys()\n",
    "        )\n",
    "    )\n",
    "    out.write(\n",
    "        '\\n'.join(\n",
    "            '\\t'.join(map(str, [seq, \n",
    "                                Kds[other_run][seq], \n",
    "                                Kd_error[other_run][seq],\n",
    "                                ABAs[other_run][seq],\n",
    "                                ABA_error[other_run][seq]]))\n",
    "            for seq in other_seqs_to_use\n",
    "        )\n",
    "    )"
   ]
  },
  {
   "cell_type": "code",
   "execution_count": null,
   "metadata": {
    "collapsed": true
   },
   "outputs": [],
   "source": [
    "HTML('''<script>\n",
    "code_show=true; \n",
    "function code_toggle() {\n",
    " if (code_show){\n",
    " $('div.input').hide();\n",
    " } else {\n",
    " $('div.input').show();\n",
    " }\n",
    " code_show = !code_show\n",
    "} \n",
    "$( document ).ready(code_toggle);\n",
    "</script>\n",
    "The raw code for this IPython notebook is by default hidden for easier reading.\n",
    "To toggle on/off the raw code, click <a href=\"javascript:code_toggle()\">here</a>.''')"
   ]
  }
 ],
 "metadata": {
  "kernelspec": {
   "display_name": "Python 2",
   "language": "python",
   "name": "python2"
  },
  "language_info": {
   "codemirror_mode": {
    "name": "ipython",
    "version": 2
   },
   "file_extension": ".py",
   "mimetype": "text/x-python",
   "name": "python",
   "nbconvert_exporter": "python",
   "pygments_lexer": "ipython2",
   "version": "2.7.6"
  }
 },
 "nbformat": 4,
 "nbformat_minor": 0
}
